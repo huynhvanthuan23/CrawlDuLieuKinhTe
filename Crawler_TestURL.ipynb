{
 "cells": [
  {
   "cell_type": "code",
   "execution_count": 3,
   "metadata": {},
   "outputs": [],
   "source": [
    "import requests\n",
    "from bs4 import BeautifulSoup"
   ]
  },
  {
   "cell_type": "code",
   "execution_count": 20,
   "metadata": {},
   "outputs": [],
   "source": [
    "url = 'https://baomoi.com/kinh-te.epi'\n",
    "response = requests.get(url)"
   ]
  },
  {
   "cell_type": "code",
   "execution_count": 21,
   "metadata": {},
   "outputs": [],
   "source": [
    "if response.status_code == 200:\n",
    "    soup = BeautifulSoup (response.content,'html.parser')"
   ]
  },
  {
   "cell_type": "code",
   "execution_count": 13,
   "metadata": {},
   "outputs": [
    {
     "data": {
      "text/plain": [
       "<div class=\"detail-content afcbc-body\" data-role=\"content\" itemprop=\"articleBody\">\n",
       "<figure class=\"VCSortableInPreviewMode\" style=\"\" type=\"Photo\"><div><img alt=\"Trump định tăng 25% thuế, ngành nhôm, thép xuất khẩu sẽ ảnh hưởng gì? - Ảnh 1.\" data-author=\"\" data-original=\"https://cdn.tuoitre.vn/471584752817336320/2023/11/3/thep-16989728867831558554510.jpg\" fetchpriority=\"high\" h=\"1024\" height=\"1024\" id=\"img_644701803703263232\" photoid=\"644701803703263232\" rel=\"lightbox\" sizes=\"(max-width: 767px) 100vw, (max-width: 1023px) 800px, 1024px\" src=\"https://cdn.tuoitre.vn/thumb_w/730/471584752817336320/2023/11/3/thep-16989728867831558554510.jpg\" srcset=\"https://cdn.tuoitre.vn/thumb_w/480/471584752817336320/2023/11/3/thep-16989728867831558554510.jpg  480w,https://cdn.tuoitre.vn/thumb_w/800/471584752817336320/2023/11/3/thep-16989728867831558554510.jpg 800w,https://cdn.tuoitre.vn/thumb_w/1200/471584752817336320/2023/11/3/thep-16989728867831558554510.jpg 1200w\" style=\"max-width:100%;\" title=\"Trump định tăng 25% thuế, ngành nhôm, thép xuất khẩu sẽ ảnh hưởng gì? - Ảnh 1.\" type=\"photo\" w=\"1535\" width=\"1535\"/></div><figcaption class=\"PhotoCMS_Caption\"><p data-placeholder=\"Nhập chú thích ảnh\">Doanh nghiệp thép có thể đối diện với thách thức khi Mỹ áp thuế - Ảnh: A.N.</p></figcaption></figure><p class=\"\">Đó là nhận định của ông Đỗ Ngọc Hưng - tham tán thương mại, trưởng Cơ quan Thương vụ Việt Nam tại Mỹ - khi trả lời <i>Tuổi Trẻ Online</i> trước việc <a class=\"link-inline-content\" data-rel=\"follow\" href=\"/hom-nay-ong-donald-trump-tuyen-the-tro-thanh-tong-thong-thu-47-cua-my-2025012011215946.htm\" title=\"Tổng thống Mỹ Donald Trump\">Tổng thống Mỹ Donald Trump</a> tuyên bố sẽ áp thuế 25% với nhôm và thép nhập khẩu từ các nước.</p><h2>Kim ngạch tỉ USD, không có Hòa Phát</h2><p class=\"\">Hiện vẫn chưa có thông tin tiếp theo về việc áp thuế bổ sung 25% với thép và nhôm có áp dụng với tất cả các nước, cũng như chưa rõ cơ sở pháp lý. Song với hai mặt hàng này khi xuất khẩu vào Mỹ vẫn đang chịu mức thuế lần lượt là 10% và 25%, thì việc áp thuế được xem là sẽ tác động đến ngành sản xuất, xuất khẩu thép và nhôm trong thời gian tới. </p><p class=\"\">Theo ông Hưng, thống kê hải quan Mỹ cho biết năm 2024 Việt Nam xuất khẩu khoảng 983 triệu USD thép và sản phẩm thép, tăng gần 159% so với năm 2023; trong khi với mặt hàng nhôm có kim ngạch là 479 triệu USD, tăng 9,5%.</p><p class=\"\">Tuy vậy, một số doanh nghiệp sản xuất thép quy mô lớn của Việt Nam như Tập đoàn Hòa Phát hiện đã không còn xuất khẩu thép vào Mỹ và mở rộng xuất khẩu ra hơn 10 thị trường khác, kể từ khi nước này áp dụng các biện pháp điều tra phòng vệ thương mại.</p><!-- bonewsrelation --><div class=\"VCSortableInPreviewMode alignRight\" data-relatednewsboxtype=\"type-1\" data-style=\"align-right\" relatednewsboxtype=\"type-1\" type=\"RelatedNewsBox\"><div class=\"kbwscwl-relatedbox type-1 tuoitre\"><ul class=\"kbwscwlr-list\"><li class=\"kbwscwlrl\" data-avatar=\"https://cdn.tuoitre.vn/471584752817336320/2025/1/22/2025-01-21t225330z1439425812rc2mecaaxb9trtrmadp3usa-trump-17375129093001115844352-39-0-1289-2000-crop-1737513073175832109871.jpg\" data-date=\"22/01/2025 10:01\" data-id=\"20250122093436763\" data-title=\"Ông Trump lên kế hoạch đánh thuế 10% hàng nhập khẩu Trung Quốc, không phải 60%\" data-url=\"/ong-trump-len-ke-hoach-danh-thue-10-hang-nhap-khau-trung-quoc-khong-phai-60-20250122093436763.htm\"><a class=\"kbwscwlrl-thumb link-callout\" href=\"/ong-trump-len-ke-hoach-danh-thue-10-hang-nhap-khau-trung-quoc-khong-phai-60-20250122093436763.htm\" target=\"_blank\"><img alt=\"Trump định tăng 25% thuế, ngành nhôm, thép xuất khẩu sẽ ảnh hưởng gì? - Ảnh 2.\" height=\"auto\" loading=\"lazy\" src=\"https://cdn.tuoitre.vn/thumb_w/730/471584752817336320/2025/1/22/2025-01-21t225330z1439425812rc2mecaaxb9trtrmadp3usa-trump-17375129093001115844352-39-0-1289-2000-crop-1737513073175832109871.jpg\" title=\"\" width=\"100%\"/></a><h4 class=\"kbwscwlrl-title clearfix\"><a class=\"title link-callout\" href=\"/ong-trump-len-ke-hoach-danh-thue-10-hang-nhap-khau-trung-quoc-khong-phai-60-20250122093436763.htm\" target=\"_blank\">Ông Trump lên kế hoạch đánh thuế 10% hàng nhập khẩu Trung Quốc, không phải 60%</a><a class=\"kbwscwlrl-next link-callout\" href=\"/ong-trump-len-ke-hoach-danh-thue-10-hang-nhap-khau-trung-quoc-khong-phai-60-20250122093436763.htm\" target=\"_blank\"><span class=\"text\">ĐỌC NGAY</span><div class=\"arrow-wrap\"><i class=\"fi fi-arrow-right\"></i></div></a></h4></li></ul></div></div><!-- eonewsrelation --><p class=\"\">Trưởng Cơ quan Thương vụ Việt Nam tại Mỹ nhận định việc áp dụng bổ sung thuế 25% với <a class=\"link-inline-content\" data-rel=\"follow\" href=\"/ong-biden-manh-tay-voi-trung-quoc-muon-tang-thue-gap-3-voi-thep-va-nhom-20240417194443569.htm\" title=\"nhôm và thép \">nhôm và thép </a>nhập khẩu sẽ ảnh hưởng tiêu cực tới các nước xuất khẩu nhôm thép vào Mỹ. </p><p class=\"\">Đặc biệt, từ sau năm 2018, nhiều quốc gia, vùng lãnh thổ đã thay thế vị trí của Trung Quốc trong xuất khẩu mặt hàng này sang Mỹ, như Canada, Mexico, EU, Nhật Bản, Hàn Quốc, Đài Loan, Brazil. </p><p class=\"\">Do đó, Mỹ hiện nay phụ thuộc vào nhu cầu nhập khẩu thép chiếm 12 - 15% và nhôm chiếm tới 40 - 45%. </p><p class=\"\">Ông Hưng cho rằng nếu Mỹ áp dụng với toàn bộ hàng nhập khẩu, sản phẩm Việt Nam vẫn có cơ hội tiếp tục <a class=\"link-inline-content\" data-rel=\"follow\" href=\"/day-manh-xuat-khau-xe-thuong-hieu-thaco-va-quoc-te-20250210161334017.htm\" title=\"xuất khẩu\">xuất khẩu</a> khi năng lực của các nhà sản xuất thép, nhôm của Mỹ chưa thể đáp ứng ngay. </p><p class=\"\">Dù vậy, biên độ lợi nhuận của doanh nghiệp sẽ giảm xuống. Cùng đó, khó khăn xuất khẩu vào Mỹ sẽ khiến chuỗi cung ứng bị ảnh hưởng, khi các nước tìm đường xuất khẩu sang các nước khác, trong đó có Việt Nam. </p><p class=\"\">Nhiều công ty thép quay lại thị trường nội địa khiến các nước tăng cường bảo hộ, cũng gây ảnh hưởng tới các quốc gia xuất khẩu thép như Việt Nam. </p><h2>Doanh nghiệp nhôm, thép Việt cần làm gì?</h2><p class=\"\">Việc <a class=\"link-inline-content\" data-rel=\"follow\" href=\"/my-cung-ran-ap-thue-nhap-khau-nhin-tu-viet-nam-20250203101329962.htm\" title=\"áp thuế\">áp thuế</a> cũng được nhận định sẽ khiến lạm phát của nước Mỹ tăng lên khi nhôm và thép là những mặt hàng cơ bản, nhu cầu sử dụng lớn tại nước này. Vì thế, ông Hưng cho rằng với lợi thế của hàng Việt Nam là giá cạnh tranh, chất lượng tốt, sẽ bổ trợ cho nền kinh tế Mỹ, góp phần giúp giảm lạm phát, bổ trợ cơ cấu ngoại thương hai nước. </p><p class=\"\">Cơ quan Thương vụ Việt Nam tại Mỹ khuyến cáo doanh nghiệp Việt Nam cần đánh giá tình hình để có chiến lược kinh doanh phù hợp, mở rộng xuất khẩu sang các thị trường có FTA với Việt Nam, tránh phụ thuộc vào một thị trường. </p><p class=\"\">Tuân thủ các quy định của Mỹ về nguồn gốc xuất xứ và luôn sẵn sàng tham gia đầy đủ quá trình giải trình của cơ quan điều tra Mỹ các vụ việc phòng vệ thương mại, khi hiện đã có 34 vụ kiện phòng vệ thương mại với mặt hàng thép và hai vụ việc điều tra với nhôm. </p><p class=\"\">Vì thế, ông Hưng khuyến nghị các doanh nghiệp cần phối hợp chặt chẽ với Bộ Công Thương (Cục Phòng vệ thương mại) và cơ quan đại diện ngoại giao ở nước ngoài theo dõi sát tình hình để có phản ứng phù hợp.</p> <div class=\"VCSortableInPreviewMode alignCenter\" data-back=\"#FFFBF2\" data-border=\"#F2D1AA\" data-text-color=\"#333333\" id=\"ObjectBoxContent_1739195109414\" style=\"background-color:#FFFBF2;border-color:#F2D1AA;display:block;color:#333333;\" type=\"content\"> <div placeholder=\"Nhập nội dung...\"><p> </p><h3><b>Ngành sản xuất kim loại của Mỹ phản ứng ra sao?</b></h3><p>Về phản ứng của Công đoàn thép Mỹ (United Steel Workers), đại diện cho 850.000 công nhân làm việc trong các ngành kim loại, khai khoáng, bột giấy và giấy, cao su, hóa chất, thủy tinh... cho rằng việc áp đặt mức thuế 25% với hàng hóa từ Canada và Mexico không phải là cách giải quyết. </p><p>Bởi Canada là một trong những đối tác quan trọng của Mỹ về an ninh quốc gia, và có sự liên kết chặt chẽ với nền kinh tế của Mỹ. Vì vậy, USW cũng kêu gọi loại bỏ cạnh tranh không lành mạnh, đối phó với tình trạng dư thừa công suất toàn cầu và thương mại không công bằng vào Bắc Mỹ là áp dụng thuế quan có mục tiêu. </p><p></p></div> </div><div class=\"VCSortableInPreviewMode\" style=\"position: relative; left: 0px; top: 0px;\" type=\"RelatedOneNews\"><a href=\"/ong-trump-dam-phan-voi-canada-mexico-doa-som-danh-thue-eu-20250203095611827.htm\" style=\"padding: 0px;\"><img \"=\"\" alt=\"Trump định tăng 25% thuế, ngành nhôm, thép xuất khẩu sẽ ảnh hưởng gì? - Ảnh 3.\" height=\"120\" loading=\"lazy\" src=\"https://cdn.tuoitre.vn/thumb_w/730/471584752817336320/2025/2/3/2025-02-03t004000z1487423218rc2nmcai3yj4rtrmadp3usa-trump-tariffs-canada-1738551074941957853212-42-0-1292-2000-crop-17385512601361911300590.jpg\" style=\"float: left; width: 150px; height: 120px; margin-right: 10px;\" title=\"\" width=\"150\"/></a><a class=\"OneNewsTitle\" href=\"/ong-trump-dam-phan-voi-canada-mexico-doa-som-danh-thue-eu-20250203095611827.htm\" style=\"text-align: left;\">Ông Trump đàm phán với Canada, Mexico, dọa sớm đánh thuế EU</a><p class=\"VCObjectBoxRelatedNewsItemSapo\">Ông Trump cho biết sẽ thảo luận với phía Canada, Mexico ngay hôm nay, trong khi tuyên bố sẽ sớm áp thuế Liên minh châu Âu.</p></div>\n",
       "</div>"
      ]
     },
     "execution_count": 13,
     "metadata": {},
     "output_type": "execute_result"
    }
   ],
   "source": [
    "soup.find('h1',class_=\"detail-title article-title\")\n",
    "soup.find('div',class_=\"detail-content afcbc-body\")"
   ]
  },
  {
   "cell_type": "code",
   "execution_count": 19,
   "metadata": {},
   "outputs": [
    {
     "data": {
      "text/plain": [
       "<h1 class=\"detail-title article-title\" data-role=\"title\">Ngành nhôm, thép xuất khẩu sẽ chịu ảnh hưởng ra sao nếu ông Trump áp thuế 25%?</h1>"
      ]
     },
     "execution_count": 19,
     "metadata": {},
     "output_type": "execute_result"
    }
   ],
   "source": [
    "soup.find('h1',class_=\"detail-title article-title\")"
   ]
  },
  {
   "cell_type": "code",
   "execution_count": null,
   "metadata": {},
   "outputs": [],
   "source": [
    "p = soup.find_all(\"p\")\n",
    "print(p)"
   ]
  },
  {
   "cell_type": "code",
   "execution_count": 22,
   "metadata": {},
   "outputs": [
    {
     "data": {
      "text/plain": [
       "[<h3 class=\"font-semibold block\"><a class=\"\" href=\"/gia-vang-hom-nay-11-2-2025-gia-vang-boc-dau-tang-so-hai-khi-tong-thong-my-trump-doa-ap-thue-co-di-co-lai-vang-nhan-nhay-vot-c51443013.epi\" rel=\"noopener noreferrer\" target=\"_blank\" title=\"Giá vàng hôm nay 11/2/2025: Giá vàng 'bốc đầu' tăng, sợ hãi khi Tổng thống Mỹ Trump dọa áp thuế 'có đi có lại', vàng nhẫn nhảy vọt\">Giá vàng hôm nay 11/2/2025: Giá vàng 'bốc đầu' tăng, sợ hãi khi Tổng thống Mỹ Trump dọa áp thuế 'có đi có lại', vàng nhẫn nhảy vọt</a></h3>,\n",
       " <h3 class=\"font-semibold block\"><a class=\"\" href=\"/gia-tieu-hom-nay-11-2-2025-du-bao-dien-bien-gia-nam-2025-tieu-viet-dat-ky-vong-xuat-khau-vao-thi-truong-trung-quoc-c51443014.epi\" rel=\"noopener noreferrer\" target=\"_blank\" title=\"Giá tiêu hôm nay 11/2/2025: Dự báo diễn biến giá năm 2025, tiêu Việt đặt kỳ vọng xuất khẩu vào thị trường Trung Quốc\">Giá tiêu hôm nay 11/2/2025: Dự báo diễn biến giá năm 2025, tiêu Việt đặt kỳ vọng xuất khẩu vào thị trường Trung Quốc</a></h3>,\n",
       " <h3 class=\"font-semibold block\"><a class=\"\" href=\"/tai-san-gia-dinh-ti-phu-tran-dinh-long-boc-hoi-gan-2-800-ti-dong-sau-tuyen-bo-tu-ong-trump-c51442623.epi\" rel=\"noopener noreferrer\" target=\"_blank\" title=\"Tài sản gia đình tỉ phú Trần Đình Long 'bốc hơi' gần 2.800 tỉ đồng sau tuyên bố từ ông Trump\">Tài sản gia đình tỉ phú Trần Đình Long 'bốc hơi' gần 2.800 tỉ đồng sau tuyên bố từ ông Trump</a></h3>,\n",
       " <h3 class=\"font-semibold block\"><a class=\"\" href=\"/sung-sot-gia-vang-sau-gio-nghi-trua-c51439965.epi\" rel=\"noopener noreferrer\" target=\"_blank\" title=\"Sửng sốt giá vàng sau giờ nghỉ trưa\">Sửng sốt giá vàng sau giờ nghỉ trưa</a></h3>,\n",
       " <h3 class=\"font-semibold block\"><a class=\"\" href=\"/quan-hoang-mai-diem-sang-cong-tac-goi-thanh-nien-nhap-ngu-nam-2025-c51443131.epi\" rel=\"noopener noreferrer\" target=\"_blank\" title=\"Quận Hoàng Mai: điểm sáng công tác gọi thanh niên nhập ngũ năm 2025\">Quận Hoàng Mai: điểm sáng công tác gọi thanh niên nhập ngũ năm 2025</a></h3>,\n",
       " <h3 class=\"font-semibold block\"><a class=\"\" href=\"/chinh-phu-tiep-tuc-de-xuat-mien-giam-gia-han-thue-phi-le-phi-tien-thue-dat-c51443158.epi\" rel=\"noopener noreferrer\" target=\"_blank\" title=\"Chính phủ: Tiếp tục đề xuất miễn, giảm, gia hạn thuế, phí, lệ phí, tiền thuê đất\">Chính phủ: Tiếp tục đề xuất miễn, giảm, gia hạn thuế, phí, lệ phí, tiền thuê đất</a></h3>,\n",
       " <h3 class=\"font-semibold block\"><a class=\"\" href=\"/24-du-lieu-san-sang-cung-cap-tren-nen-tang-tich-hop-chia-se-du-lieu-quoc-gia-c51443282.epi\" rel=\"noopener noreferrer\" target=\"_blank\" title=\"24 dữ liệu sẵn sàng cung cấp trên nền tảng tích hợp, chia sẻ dữ liệu quốc gia\">24 dữ liệu sẵn sàng cung cấp trên nền tảng tích hợp, chia sẻ dữ liệu quốc gia</a></h3>,\n",
       " <h3 class=\"font-semibold block\"><a class=\"\" href=\"/bai-3-nang-cap-chuoi-gia-tri-nong-san-chu-luc-c51443138.epi\" rel=\"noopener noreferrer\" target=\"_blank\" title=\"Bài 3: Nâng cấp chuỗi giá trị nông sản chủ lực\">Bài 3: Nâng cấp chuỗi giá trị nông sản chủ lực</a></h3>,\n",
       " <h3 class=\"font-semibold block\"><a class=\"\" href=\"/mo-rong-khu-cong-nghiep-khu-kinh-te-hai-phong-hut-dong-von-fdi-cong-nghe-cao-c51443139.epi\" rel=\"noopener noreferrer\" target=\"_blank\" title=\"Mở rộng Khu công nghiệp, Khu kinh tế, Hải Phòng 'hút' dòng vốn FDI công nghệ cao\">Mở rộng Khu công nghiệp, Khu kinh tế, Hải Phòng 'hút' dòng vốn FDI công nghệ cao</a></h3>,\n",
       " <h3 class=\"font-semibold block\"><a class=\"\" href=\"/giam-doc-ai-cua-google-che-deepseek-c51442999.epi\" rel=\"noopener noreferrer\" target=\"_blank\" title=\"Giám đốc AI của Google chê DeepSeek\">Giám đốc AI của Google chê DeepSeek</a></h3>,\n",
       " <h3 class=\"font-semibold block\"><a class=\"\" href=\"/bell-duc-trien-khai-du-an-ket-noi-vuot-gioi-han-c51442949.epi\" rel=\"noopener noreferrer\" target=\"_blank\" title=\"Bell Đức triển khai dự án 'Kết nối vượt giới hạn'\">Bell Đức triển khai dự án 'Kết nối vượt giới hạn'</a></h3>,\n",
       " <h3 class=\"font-semibold block\"><a class=\"\" href=\"/chinh-phu-de-xuat-bo-sung-von-dieu-le-cho-vec-c51442961.epi\" rel=\"noopener noreferrer\" target=\"_blank\" title=\"Chính phủ đề xuất bổ sung vốn điều lệ cho VEC\">Chính phủ đề xuất bổ sung vốn điều lệ cho VEC</a></h3>,\n",
       " <h3 class=\"font-semibold block\"><a class=\"\" href=\"/truong-ban-tuyen-giao-tinh-uy-quang-binh-xin-nghi-huu-truoc-tuoi-c51442915.epi\" rel=\"noopener noreferrer\" target=\"_blank\" title=\"Trưởng ban Tuyên giáo Tỉnh ủy Quảng Bình xin nghỉ hưu trước tuổi\">Trưởng ban Tuyên giáo Tỉnh ủy Quảng Bình xin nghỉ hưu trước tuổi</a></h3>,\n",
       " <h3 class=\"font-semibold block\"><a class=\"\" href=\"/bao-dam-muc-tieu-tang-truong-8-tro-len-c51443027.epi\" rel=\"noopener noreferrer\" target=\"_blank\" title=\"Bảo đảm mục tiêu tăng trưởng 8% trở lên\">Bảo đảm mục tiêu tăng trưởng 8% trở lên</a></h3>,\n",
       " <h3 class=\"font-semibold block\"><a class=\"\" href=\"/tin-tuc-kinh-te-10-2-von-dau-tu-ra-nuoc-ngoai-cao-gap-5-lan-c51442955.epi\" rel=\"noopener noreferrer\" target=\"_blank\" title=\"Tin tức kinh tế 10/2: vốn đầu tư ra nước ngoài cao gấp 5 lần\">Tin tức kinh tế 10/2: vốn đầu tư ra nước ngoài cao gấp 5 lần</a></h3>,\n",
       " <h3 class=\"font-semibold block\"><a class=\"\" href=\"/nguoi-mua-vang-ngay-via-than-tai-dang-lo-dam-c51442938.epi\" rel=\"noopener noreferrer\" target=\"_blank\" title=\"Người mua vàng ngày vía Thần Tài đang lỗ đậm\">Người mua vàng ngày vía Thần Tài đang lỗ đậm</a></h3>,\n",
       " <h3 class=\"font-semibold block\"><a class=\"\" href=\"/thong-nhat-trinh-quoc-hoi-dieu-chinh-muc-tieu-tang-truong-nam-2025-dat-8-tro-len-c51442868.epi\" rel=\"noopener noreferrer\" target=\"_blank\" title=\"Thống nhất trình Quốc hội điều chỉnh mục tiêu tăng trưởng năm 2025 đạt 8% trở lên\">Thống nhất trình Quốc hội điều chỉnh mục tiêu tăng trưởng năm 2025 đạt 8% trở lên</a></h3>,\n",
       " <h3 class=\"font-semibold block\"><a class=\"\" href=\"/phat-trien-ben-vung-nong-nghiep-vung-dong-nam-bo-bai-4-mo-vang-tin-chi-carbon-c51443009.epi\" rel=\"noopener noreferrer\" target=\"_blank\" title=\"Phát triển bền vững nông nghiệp vùng Đông Nam Bộ – Bài 4: 'Mỏ vàng' tín chỉ carbon\">Phát triển bền vững nông nghiệp vùng Đông Nam Bộ – Bài 4: 'Mỏ vàng' tín chỉ carbon</a></h3>,\n",
       " <h3 class=\"font-semibold block\"><a class=\"\" href=\"/trong-thang-1-chua-co-doanh-nghiep-nao-duoc-phe-duyet-phuong-an-co-phan-hoa-c51443008.epi\" rel=\"noopener noreferrer\" target=\"_blank\" title=\"Trong tháng 1, chưa có doanh nghiệp nào được phê duyệt phương án cổ phần hóa\">Trong tháng 1, chưa có doanh nghiệp nào được phê duyệt phương án cổ phần hóa</a></h3>,\n",
       " <h3 class=\"font-semibold block\"><a class=\"\" href=\"/hoan-canh-trai-nguoc-cua-2-cong-vien-dam-sen-c51442977.epi\" rel=\"noopener noreferrer\" target=\"_blank\" title=\"Hoàn cảnh trái ngược của 2 công viên Đầm Sen\">Hoàn cảnh trái ngược của 2 công viên Đầm Sen</a></h3>,\n",
       " <h3 class=\"font-semibold block\"><a class=\"\" href=\"/doanh-nghiep-viet-nam-can-thich-ung-truoc-tro-ngai-thi-truong-c51442877.epi\" rel=\"noopener noreferrer\" target=\"_blank\" title=\"Doanh nghiệp Việt Nam cần thích ứng trước trở ngại thị trường\">Doanh nghiệp Việt Nam cần thích ứng trước trở ngại thị trường</a></h3>,\n",
       " <h3 class=\"font-semibold block\"><a class=\"\" href=\"/tin-tuc-kinh-te-ngay-10-2-co-phieu-thep-chao-dao-truoc-tin-my-tai-ap-thue-c51443041.epi\" rel=\"noopener noreferrer\" target=\"_blank\" title=\"Tin tức kinh tế ngày 10/2: Cổ phiếu thép chao đảo trước tin Mỹ tái áp thuế\">Tin tức kinh tế ngày 10/2: Cổ phiếu thép chao đảo trước tin Mỹ tái áp thuế</a></h3>,\n",
       " <h3 class=\"font-semibold block\"><a class=\"\" href=\"/xay-dung-thuong-hieu-cho-dac-san-trai-cay-tuoi-c51443018.epi\" rel=\"noopener noreferrer\" target=\"_blank\" title=\"Xây dựng thương hiệu cho đặc sản trái cây tươi\">Xây dựng thương hiệu cho đặc sản trái cây tươi</a></h3>,\n",
       " <h3 class=\"font-semibold block\"><a class=\"\" href=\"/gia-ca-phe-hom-nay-11-2-ca-phe-trong-nuoc-giam-tiep-500-dong-kg-c51442904.epi\" rel=\"noopener noreferrer\" target=\"_blank\" title=\"Giá cà phê hôm nay 11/2: Cà phê trong nước giảm tiếp 500 đồng/kg\">Giá cà phê hôm nay 11/2: Cà phê trong nước giảm tiếp 500 đồng/kg</a></h3>,\n",
       " <h3 class=\"font-semibold block\"><a class=\"\" href=\"/khoi-day-tinh-than-thi-dua-trong-cong-nhan-vien-chuc-lao-dong-huyen-quoc-oai-c51442840.epi\" rel=\"noopener noreferrer\" target=\"_blank\" title=\"Khơi dậy tinh thần thi đua trong công nhân, viên chức, lao động huyện Quốc Oai\">Khơi dậy tinh thần thi đua trong công nhân, viên chức, lao động huyện Quốc Oai</a></h3>,\n",
       " <h3 class=\"font-semibold block\"><a class=\"\" href=\"/tp-hcm-nhu-cau-tuyen-dung-sau-tet-tang-khoang-7-so-voi-nam-truoc-c51442818.epi\" rel=\"noopener noreferrer\" target=\"_blank\" title=\"TP.HCM: Nhu cầu tuyển dụng sau Tết tăng khoảng 7% so với năm trước\">TP.HCM: Nhu cầu tuyển dụng sau Tết tăng khoảng 7% so với năm trước</a></h3>,\n",
       " <h3 class=\"font-semibold block\"><a class=\"\" href=\"/chat-luong-tuyen-quan-cong-an-nhan-dan-nghia-vu-tiep-tuc-duoc-nang-len-c51442790.epi\" rel=\"noopener noreferrer\" target=\"_blank\" title=\"Chất lượng tuyển quân Công an Nhân dân nghĩa vụ tiếp tục được nâng lên\">Chất lượng tuyển quân Công an Nhân dân nghĩa vụ tiếp tục được nâng lên</a></h3>,\n",
       " <h3 class=\"font-semibold block\"><a class=\"\" href=\"/tan-dung-loi-the-tu-fta-de-dat-tang-truong-xuat-khau-2-con-so-c51442812.epi\" rel=\"noopener noreferrer\" target=\"_blank\" title=\"Tận dụng lợi thế từ FTA để đạt tăng trưởng xuất khẩu 2 con số\">Tận dụng lợi thế từ FTA để đạt tăng trưởng xuất khẩu 2 con số</a></h3>,\n",
       " <h3 class=\"font-semibold block\"><a class=\"\" href=\"/xu-huong-chung-khoan-11-2-cho-nguong-1-255-diem-c51442896.epi\" rel=\"noopener noreferrer\" target=\"_blank\" title=\"Xu hướng chứng khoán 11/2, chờ ngưỡng 1,255 điểm\">Xu hướng chứng khoán 11/2, chờ ngưỡng 1,255 điểm</a></h3>,\n",
       " <h3 class=\"font-semibold block\"><a class=\"\" href=\"/trinh-quoc-hoi-dieu-chinh-muc-tieu-tang-truong-gdp-nam-2025-c51442902.epi\" rel=\"noopener noreferrer\" target=\"_blank\" title=\"Trình Quốc hội điều chỉnh mục tiêu tăng trưởng GDP năm 2025\">Trình Quốc hội điều chỉnh mục tiêu tăng trưởng GDP năm 2025</a></h3>,\n",
       " <h3 class=\"font-semibold block\"><a class=\"\" href=\"/phat-trien-ben-vung-nong-nghiep-vung-dong-nam-bo-bai-2-buoc-tien-lon-tu-nong-nghiep-thong-minh-c51442931.epi\" rel=\"noopener noreferrer\" target=\"_blank\" title=\"Phát triển bền vững nông nghiệp vùng Đông Nam Bộ – Bài 2: Bước tiến lớn từ nông nghiệp thông minh\">Phát triển bền vững nông nghiệp vùng Đông Nam Bộ – Bài 2: Bước tiến lớn từ nông nghiệp thông minh</a></h3>,\n",
       " <h3 class=\"font-semibold block\"><a class=\"\" href=\"/doanh-nghiep-viet-nam-ngay-cang-khang-dinh-vai-tro-quan-trong-trong-phat-trien-dat-nuoc-c51442958.epi\" rel=\"noopener noreferrer\" target=\"_blank\" title=\"Doanh nghiệp Việt Nam ngày càng khẳng định vai trò quan trọng trong phát triển đất nước\">Doanh nghiệp Việt Nam ngày càng khẳng định vai trò quan trọng trong phát triển đất nước</a></h3>,\n",
       " <h3 class=\"font-semibold block\"><a class=\"\" href=\"/toan-van-bai-phat-bieu-cua-bo-truong-nguyen-hong-dien-tai-hoi-nghi-thuong-truc-chinh-phu-gap-go-doanh-nghiep-c51442841.epi\" rel=\"noopener noreferrer\" target=\"_blank\" title=\"Toàn văn bài phát biểu của Bộ trưởng Nguyễn Hồng Diên tại Hội nghị Thường trực Chính phủ gặp gỡ doanh nghiệp\">Toàn văn bài phát biểu của Bộ trưởng Nguyễn Hồng Diên tại Hội nghị Thường trực Chính phủ gặp gỡ doanh nghiệp</a></h3>,\n",
       " <h3 class=\"font-semibold block\"><a class=\"\" href=\"/da-nang-giam-doc-va-pho-giam-doc-3-so-xin-nghi-huu-truoc-tuoi-c51442753.epi\" rel=\"noopener noreferrer\" target=\"_blank\" title=\"Đà Nẵng: Giám đốc và Phó giám đốc 3 Sở xin nghỉ hưu trước tuổi\">Đà Nẵng: Giám đốc và Phó giám đốc 3 Sở xin nghỉ hưu trước tuổi</a></h3>,\n",
       " <h3 class=\"font-semibold block\"><a class=\"\" href=\"/tp-ho-chi-minh-lao-dong-doi-dao-san-xuat-on-dinh-tu-dau-nam-c51442768.epi\" rel=\"noopener noreferrer\" target=\"_blank\" title=\"TP Hồ Chí Minh: Lao động dồi dào, sản xuất ổn định từ đầu năm\">TP Hồ Chí Minh: Lao động dồi dào, sản xuất ổn định từ đầu năm</a></h3>,\n",
       " <h3 class=\"font-semibold block\"><a class=\"\" href=\"/phat-trien-ben-vung-nong-nghiep-vung-dong-nam-bo-bai-1-tru-do-cua-nen-kinh-te-c51442843.epi\" rel=\"noopener noreferrer\" target=\"_blank\" title=\"Phát triển bền vững nông nghiệp vùng Đông Nam Bộ – Bài 1: Trụ đỡ của nền kinh tế\">Phát triển bền vững nông nghiệp vùng Đông Nam Bộ – Bài 1: Trụ đỡ của nền kinh tế</a></h3>,\n",
       " <h3 class=\"font-semibold block\"><a class=\"\" href=\"/thue-quan-moi-cua-ong-trump-thuc-su-nham-vao-ai-c51442838.epi\" rel=\"noopener noreferrer\" target=\"_blank\" title=\"Thuế quan mới của ông Trump thực sự nhằm vào ai?\">Thuế quan mới của ông Trump thực sự nhằm vào ai?</a></h3>,\n",
       " <h3 class=\"font-semibold block\"><a class=\"\" href=\"/quy-dinh-ve-lam-them-gio-trong-nam-2025-c51442660.epi\" rel=\"noopener noreferrer\" target=\"_blank\" title=\"Quy định về làm thêm giờ trong năm 2025\">Quy định về làm thêm giờ trong năm 2025</a></h3>,\n",
       " <h3 class=\"font-semibold block\"><a class=\"\" href=\"/thong-nhat-trinh-quoc-hoi-dieu-chinh-muc-tieu-tang-truong-8-tro-len-c51442704.epi\" rel=\"noopener noreferrer\" target=\"_blank\" title=\"Thống nhất trình Quốc hội điều chỉnh mục tiêu tăng trưởng 8% trở lên\">Thống nhất trình Quốc hội điều chỉnh mục tiêu tăng trưởng 8% trở lên</a></h3>,\n",
       " <h3 class=\"font-semibold block\"><a class=\"\" href=\"/vi-sao-khach-hang-mua-san-pham-cua-ban-c51442717.epi\" rel=\"noopener noreferrer\" target=\"_blank\" title=\"Vì sao khách hàng mua sản phẩm của bạn?\">Vì sao khách hàng mua sản phẩm của bạn?</a></h3>,\n",
       " <h3 class=\"font-semibold block\"><a class=\"\" href=\"/ngam-don-thue-quan-my-shein-keu-goi-doi-tac-chuyen-trong-tam-viet-nam-c51442638.epi\" rel=\"noopener noreferrer\" target=\"_blank\" title=\"Ngấm đòn thuế quan Mỹ, Shein kêu gọi đối tác chuyển trọng tâm Việt Nam\">Ngấm đòn thuế quan Mỹ, Shein kêu gọi đối tác chuyển trọng tâm Việt Nam</a></h3>,\n",
       " <h3 class=\"font-semibold block\"><a class=\"\" href=\"/gia-vang-the-gioi-tiep-tuc-tang-soc-chenh-lech-bat-ngo-voi-gia-vang-mieng-sjc-c51442607.epi\" rel=\"noopener noreferrer\" target=\"_blank\" title=\"Giá vàng thế giới tiếp tục tăng sốc, chênh lệch bất ngờ với giá vàng miếng SJC\">Giá vàng thế giới tiếp tục tăng sốc, chênh lệch bất ngờ với giá vàng miếng SJC</a></h3>,\n",
       " <h3 class=\"font-semibold block\"><a class=\"\" href=\"/hai-doanh-nghiep-lon-duoc-thu-tuong-dat-hang-cho-du-an-duong-sat-toc-doc-cao-c51442688.epi\" rel=\"noopener noreferrer\" target=\"_blank\" title=\"Hai doanh nghiệp lớn được Thủ tướng đặt hàng cho dự án đường sắt tốc độc cao\">Hai doanh nghiệp lớn được Thủ tướng đặt hàng cho dự án đường sắt tốc độc cao</a></h3>,\n",
       " <h3 class=\"font-semibold block\"><a class=\"\" href=\"/trung-quoc-thi-diem-cho-cac-cong-ty-bao-hiem-dau-tu-vang-c51442637.epi\" rel=\"noopener noreferrer\" target=\"_blank\" title=\"Trung Quốc thí điểm cho các công ty bảo hiểm đầu tư vàng\">Trung Quốc thí điểm cho các công ty bảo hiểm đầu tư vàng</a></h3>,\n",
       " <h3 class=\"font-semibold block\"><a class=\"\" href=\"/cam-lam-cong-bo-xa-cam-tan-dat-chuan-nong-thon-moi-nang-cao-c51442715.epi\" rel=\"noopener noreferrer\" target=\"_blank\" title=\"Cam Lâm: Công bố xã Cam Tân đạt chuẩn nông thôn mới nâng cao\">Cam Lâm: Công bố xã Cam Tân đạt chuẩn nông thôn mới nâng cao</a></h3>,\n",
       " <h3 class=\"font-semibold block\"><a class=\"\" href=\"/de-dat-muc-tieu-tang-truong-gdp-nam-2025-tu-8-tro-len-se-can-nhieu-giai-phap-quyet-liet-c51442976.epi\" rel=\"noopener noreferrer\" target=\"_blank\" title=\"Để đạt mục tiêu tăng trưởng GDP năm 2025 từ 8% trở lên sẽ cần nhiều giải pháp quyết liệt\">Để đạt mục tiêu tăng trưởng GDP năm 2025 từ 8% trở lên sẽ cần nhiều giải pháp quyết liệt</a></h3>,\n",
       " <h3 class=\"font-semibold block\"><a class=\"\" href=\"/thay-gi-tu-dien-bien-gia-dau-tuan-qua-c51442613.epi\" rel=\"noopener noreferrer\" target=\"_blank\" title=\"Thấy gì từ diễn biến giá dầu tuần qua?\">Thấy gì từ diễn biến giá dầu tuần qua?</a></h3>,\n",
       " <h3 class=\"font-semibold block\"><a class=\"\" href=\"/trung-quoc-bat-dau-cat-giam-tro-cap-nang-luong-sach-c51442732.epi\" rel=\"noopener noreferrer\" target=\"_blank\" title=\"Trung Quốc bắt đầu cắt giảm trợ cấp năng lượng sạch\">Trung Quốc bắt đầu cắt giảm trợ cấp năng lượng sạch</a></h3>,\n",
       " <h3 class=\"font-semibold block\"><a class=\"\" href=\"/bai-hoc-cua-canada-truoc-ap-luc-thue-tu-my-c51442731.epi\" rel=\"noopener noreferrer\" target=\"_blank\" title=\"Bài học của Canada trước áp lực thuế từ Mỹ?\">Bài học của Canada trước áp lực thuế từ Mỹ?</a></h3>,\n",
       " <h3 class=\"font-semibold block\"><a class=\"\" href=\"/bao-hiem-xa-hoi-viet-nam-30-nam-no-luc-vi-su-nghiep-an-sinh-xa-hoi-c51442546.epi\" rel=\"noopener noreferrer\" target=\"_blank\" title=\"Bảo hiểm xã hội Việt Nam: 30 năm nỗ lực vì sự nghiệp an sinh xã hội\">Bảo hiểm xã hội Việt Nam: 30 năm nỗ lực vì sự nghiệp an sinh xã hội</a></h3>,\n",
       " <h3 class=\"font-semibold block\"><a class=\"\" href=\"/chung-tay-bao-ve-phat-trien-nguon-loi-thuy-san-c51442537.epi\" rel=\"noopener noreferrer\" target=\"_blank\" title=\"Chung tay bảo vệ, phát triển nguồn lợi thủy sản\">Chung tay bảo vệ, phát triển nguồn lợi thủy sản</a></h3>,\n",
       " <h3 class=\"font-semibold block\"><a class=\"\" href=\"/bac-ninh-thu-ngan-sach-thang-1-tang-gan-18-so-voi-cung-ky-c51442545.epi\" rel=\"noopener noreferrer\" target=\"_blank\" title=\"Bắc Ninh thu ngân sách tháng 1 tăng gần 18% so với cùng kỳ\">Bắc Ninh thu ngân sách tháng 1 tăng gần 18% so với cùng kỳ</a></h3>,\n",
       " <h3 class=\"font-semibold block\"><a class=\"\" href=\"/chinh-phu-de-xuat-gdp-nam-2025-dat-8-tro-len-c51442512.epi\" rel=\"noopener noreferrer\" target=\"_blank\" title=\"Chính phủ đề xuất GDP năm 2025 đạt 8% trở lên\">Chính phủ đề xuất GDP năm 2025 đạt 8% trở lên</a></h3>,\n",
       " <h3 class=\"font-semibold block\"><a class=\"\" href=\"/quang-binh-ra-soat-can-bo-xin-nghi-huu-theo-nguyen-vong-c51442707.epi\" rel=\"noopener noreferrer\" target=\"_blank\" title=\"Quảng Bình rà soát cán bộ xin nghỉ hưu theo nguyện vọng\">Quảng Bình rà soát cán bộ xin nghỉ hưu theo nguyện vọng</a></h3>,\n",
       " <h3 class=\"font-semibold block\"><a class=\"\" href=\"/quan-tam-giai-quyet-thu-tuc-hanh-chinh-cho-nguoi-dan-sau-sap-nhap-c51442499.epi\" rel=\"noopener noreferrer\" target=\"_blank\" title=\"Quan tâm giải quyết thủ tục hành chính cho người dân sau sáp nhập\">Quan tâm giải quyết thủ tục hành chính cho người dân sau sáp nhập</a></h3>,\n",
       " <h3 class=\"font-semibold block\"><a class=\"\" href=\"/chung-khoan-phai-sinh-ngay-10-2-cac-hop-dong-tuong-lai-giam-diem-thanh-khoan-cai-thien-c51442601.epi\" rel=\"noopener noreferrer\" target=\"_blank\" title=\"Chứng khoán phái sinh ngày 10/2: Các hợp đồng tương lai giảm điểm, thanh khoản cải thiện\">Chứng khoán phái sinh ngày 10/2: Các hợp đồng tương lai giảm điểm, thanh khoản cải thiện</a></h3>,\n",
       " <h3 class=\"font-semibold block\"><a class=\"\" href=\"/trinh-quoc-hoi-kich-ban-tang-truong-8-tro-len-quy-mo-gdp-nam-2025-tren-500-ty-usd-c51442423.epi\" rel=\"noopener noreferrer\" target=\"_blank\" title=\"Trình Quốc hội kịch bản tăng trưởng 8% trở lên, quy mô GDP năm 2025 trên 500 tỷ USD\">Trình Quốc hội kịch bản tăng trưởng 8% trở lên, quy mô GDP năm 2025 trên 500 tỷ USD</a></h3>,\n",
       " <h3 class=\"font-semibold block\"><a class=\"\" href=\"/nu-thanh-nien-anh-em-song-sinh-va-nhieu-sinh-vien-tinh-nguyen-nhap-ngu-c51442538.epi\" rel=\"noopener noreferrer\" target=\"_blank\" title=\"Nữ thanh niên, anh em song sinh và nhiều sinh viên tình nguyện nhập ngũ\">Nữ thanh niên, anh em song sinh và nhiều sinh viên tình nguyện nhập ngũ</a></h3>,\n",
       " <h3 class=\"font-semibold block\"><a class=\"\" href=\"/so-ket-giai-doan-1-thuc-hien-xoa-nha-tam-dot-nat-o-tp-long-xuyen-c51442416.epi\" rel=\"noopener noreferrer\" target=\"_blank\" title=\"Sơ kết giai đoạn 1 thực hiện xóa nhà tạm, dột nát ở TP. Long Xuyên\">Sơ kết giai đoạn 1 thực hiện xóa nhà tạm, dột nát ở TP. Long Xuyên</a></h3>,\n",
       " <h3 class=\"font-semibold block\"><a class=\"\" href=\"/viet-nam-co-ten-trong-danh-sach-nhung-hang-hang-khong-tot-nhat-the-gioi-nam-2025-c51442362.epi\" rel=\"noopener noreferrer\" target=\"_blank\" title=\"Việt Nam có tên trong danh sách những hãng hàng không tốt nhất thế giới năm 2025\">Việt Nam có tên trong danh sách những hãng hàng không tốt nhất thế giới năm 2025</a></h3>,\n",
       " <h3 class=\"font-semibold block\"><a class=\"\" href=\"/khan-truong-hoan-thanh-tinh-gon-to-chuc-bo-may-chinh-phu-c51442373.epi\" rel=\"noopener noreferrer\" target=\"_blank\" title=\"Khẩn trương hoàn thành tinh gọn tổ chức bộ máy Chính phủ\">Khẩn trương hoàn thành tinh gọn tổ chức bộ máy Chính phủ</a></h3>]"
      ]
     },
     "execution_count": 22,
     "metadata": {},
     "output_type": "execute_result"
    }
   ],
   "source": [
    "soup.find_all(\"h3\", class_=\"font-semibold block\")"
   ]
  }
 ],
 "metadata": {
  "kernelspec": {
   "display_name": "venv",
   "language": "python",
   "name": "python3"
  },
  "language_info": {
   "codemirror_mode": {
    "name": "ipython",
    "version": 3
   },
   "file_extension": ".py",
   "mimetype": "text/x-python",
   "name": "python",
   "nbconvert_exporter": "python",
   "pygments_lexer": "ipython3",
   "version": "3.10.6"
  }
 },
 "nbformat": 4,
 "nbformat_minor": 2
}
